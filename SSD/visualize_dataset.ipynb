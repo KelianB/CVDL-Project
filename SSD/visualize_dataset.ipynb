{
 "cells": [
  {
   "cell_type": "code",
   "execution_count": null,
   "metadata": {},
   "outputs": [],
   "source": [
    "import numpy as np\n",
    "import matplotlib.pyplot as plt\n",
    "from train import get_parser\n",
    "from ssd.config.defaults import cfg\n",
    "from ssd.data.build import make_data_loader\n",
    "from vizer.draw import draw_boxes\n",
    "from PIL import Image\n",
    "\n",
    "config_file = \"configs/train_tdt4265.yaml\"\n",
    "\n",
    "cfg.merge_from_file(config_file)\n",
    "cfg.freeze()\n",
    "\n",
    "data_loader = make_data_loader(cfg, is_train=True)\n",
    "if isinstance(data_loader, list):\n",
    "    data_loader = data_loader[0]\n",
    "dataset = data_loader.dataset\n",
    "'''indices = list(range(len(dataset)))\n",
    "np.random.shuffle(indices)\n",
    "for idx in indices:\n",
    "    image = dataset._read_image(idx)\n",
    "    boxes, labels = dataset.get_annotation(idx)\n",
    "    image = draw_boxes(\n",
    "        image, boxes, labels, class_name_map=dataset.class_names\n",
    "    )\n",
    "    plt.imshow(image)\n",
    "    plt.show()'''\n",
    "\n",
    "images, targets, _ = next(iter(data_loader))\n",
    "boxes = targets['boxes']\n",
    "labels = targets['labels']\n",
    "for image, boxes, labels in zip(images, boxes, labels):\n",
    "    image = image.permute(1, 2, 0).numpy()\n",
    "    image = image.astype(np.uint8)\n",
    "    image = Image.fromarray(image)\n",
    "    #boxes = boxes.numpy()\n",
    "    #labels = labels.numpy()\n",
    "    '''image = draw_boxes(\n",
    "        image, boxes, labels, class_name_map=dataset.class_names\n",
    "    )'''\n",
    "    plt.imshow(image)\n",
    "    plt.show()"
   ]
  },
  {
   "cell_type": "code",
   "execution_count": null,
   "metadata": {},
   "outputs": [],
   "source": []
  }
 ],
 "metadata": {
  "kernelspec": {
   "display_name": "Python 3",
   "language": "python",
   "name": "python3"
  },
  "language_info": {
   "codemirror_mode": {
    "name": "ipython",
    "version": 3
   },
   "file_extension": ".py",
   "mimetype": "text/x-python",
   "name": "python",
   "nbconvert_exporter": "python",
   "pygments_lexer": "ipython3",
   "version": "3.6.9"
  }
 },
 "nbformat": 4,
 "nbformat_minor": 4
}
