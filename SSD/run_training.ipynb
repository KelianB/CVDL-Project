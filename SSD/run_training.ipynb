{
 "cells": [
  {
   "cell_type": "code",
   "execution_count": 14,
   "metadata": {},
   "outputs": [],
   "source": [
    "!rm -r outputs/basic"
   ]
  },
  {
   "cell_type": "code",
   "execution_count": 18,
   "metadata": {},
   "outputs": [
    {
     "name": "stdout",
     "output_type": "stream",
     "text": [
      "2020-04-27 14:42:23,544 SSD INFO: Namespace(config_file='configs/custom_train_waymo_resnet.yaml', opts=[])\n",
      "2020-04-27 14:42:23,545 SSD INFO: Loaded configuration file configs/custom_train_waymo_resnet.yaml\n",
      "2020-04-27 14:42:23,545 SSD INFO: \n",
      "EVAL_STEP: 1000\n",
      "MODEL_SAVE_STEP: 1000\n",
      "MODEL:\n",
      "    NUM_CLASSES: 5\n",
      "    BACKBONE:\n",
      "        NAME: 'basic'\n",
      "        PRETRAINED: True\n",
      "        OUT_CHANNELS: [128, 256, 512, 256, 128, 64]\n",
      "        INPUT_CHANNELS: 3\n",
      "    PRIORS:\n",
      "        FEATURE_MAPS: [[64,48], [32,24], [16,12], [8,6], [4,3], [2,1]]\n",
      "INPUT:\n",
      "    IMAGE_SIZE: (512,384)\n",
      "DATASETS:\n",
      "    TRAIN: (\"waymo_train\",)\n",
      "    TEST: (\"waymo_val\", )\n",
      "SOLVER:\n",
      "    MAX_ITER: 50000\n",
      "    LR_STEPS: []\n",
      "    \n",
      "    WARMUP_FACTOR: 1.0\n",
      "     \n",
      "    GAMMA: 0.1\n",
      "    BATCH_SIZE: 16\n",
      "    LR: 1e-3\n",
      "    WEIGHT_DECAY: 0.005\n",
      "OUTPUT_DIR: 'outputs/basic'\n",
      "DATASET_DIR: \"datasets\"\n",
      "\n",
      "2020-04-27 14:42:23,545 SSD INFO: Running with config:\n",
      "DATASETS:\n",
      "  TEST: ('waymo_val',)\n",
      "  TRAIN: ('waymo_train',)\n",
      "DATASET_DIR: datasets\n",
      "DATA_LOADER:\n",
      "  NUM_WORKERS: 4\n",
      "  PIN_MEMORY: True\n",
      "EVAL_STEP: 1000\n",
      "INPUT:\n",
      "  IMAGE_SIZE: (512, 384)\n",
      "  PIXEL_MEAN: [123, 117, 104]\n",
      "  PIXEL_STD: [58, 57, 57]\n",
      "LOG_STEP: 10\n",
      "MODEL:\n",
      "  BACKBONE:\n",
      "    INPUT_CHANNELS: 3\n",
      "    NAME: basic\n",
      "    OUT_CHANNELS: (128, 256, 512, 256, 128, 64)\n",
      "    PRETRAINED: True\n",
      "  BOX_HEAD:\n",
      "    NAME: SSDBoxHead\n",
      "    PREDICTOR: SSDBoxPredictor\n",
      "  CENTER_VARIANCE: 0.1\n",
      "  META_ARCHITECTURE: SSDDetector\n",
      "  NEG_POS_RATIO: 3\n",
      "  NUM_CLASSES: 5\n",
      "  PRIORS:\n",
      "    ASPECT_RATIOS: [[2], [2, 3], [2, 3], [2, 3], [2], [2]]\n",
      "    BOXES_PER_LOCATION: [4, 6, 6, 6, 4, 4]\n",
      "    CLIP: True\n",
      "    FEATURE_MAPS: [[64, 48], [32, 24], [16, 12], [8, 6], [4, 3], [2, 1]]\n",
      "    MAX_SIZES: [60, 111, 162, 213, 264, 315]\n",
      "    MIN_SIZES: [30, 60, 111, 162, 213, 264]\n",
      "    STRIDES: [8, 16, 32, 64, 100, 300]\n",
      "  SIZE_VARIANCE: 0.2\n",
      "  THRESHOLD: 0.5\n",
      "MODEL_SAVE_STEP: 1000\n",
      "OUTPUT_DIR: outputs/basic\n",
      "SOLVER:\n",
      "  BATCH_SIZE: 16\n",
      "  GAMMA: 0.1\n",
      "  LR: 0.001\n",
      "  LR_STEPS: []\n",
      "  MAX_ITER: 50000\n",
      "  MOMENTUM: 0.9\n",
      "  WARMUP_FACTOR: 1.0\n",
      "  WARMUP_ITERS: 500\n",
      "  WEIGHT_DECAY: 0.005\n",
      "TEST:\n",
      "  BATCH_SIZE: 10\n",
      "  CONFIDENCE_THRESHOLD: 0.01\n",
      "  MAX_PER_CLASS: -1\n",
      "  MAX_PER_IMAGE: 100\n",
      "  NMS_THRESHOLD: 0.45\n",
      "basic\n",
      "Detector initialized. Total Number of params:  105.41M\n",
      "Backbone number of parameters: 104.81M\n",
      "SSD Head number of parameters: 601.6K\n",
      "2020-04-27 14:42:29,514 SSD.trainer INFO: No checkpoint found.\n",
      "17936\n",
      "Dataset loaded. Subset: train, number of images: 16142\n",
      "2020-04-27 14:42:31,667 SSD.trainer INFO: Start training ...\n",
      "2020-04-27 14:43:30,237 SSD.trainer INFO: iter: 000010, lr: 0.00100, total_loss: 19.267 (19.267), reg_loss: 6.750 (6.750), cls_loss: 12.518 (12.518), time: 5.857 (5.857), eta: 3 days, 9:19:31, mem: 13753M\n",
      "2020-04-27 14:44:13,929 SSD.trainer INFO: iter: 000020, lr: 0.00100, total_loss: 12.156 (15.712), reg_loss: 5.764 (6.257), cls_loss: 6.392 (9.455), time: 4.369 (5.113), eta: 2 days, 22:59:00, mem: 13753M\n",
      "2020-04-27 14:44:48,904 SSD.trainer INFO: iter: 000030, lr: 0.00100, total_loss: 10.204 (13.876), reg_loss: 5.599 (6.037), cls_loss: 4.605 (7.838), time: 3.497 (4.574), eta: 2 days, 15:29:42, mem: 13753M\n",
      "2020-04-27 14:45:22,412 SSD.trainer INFO: iter: 000040, lr: 0.00100, total_loss: 9.178 (12.701), reg_loss: 5.096 (5.802), cls_loss: 4.082 (6.899), time: 3.350 (4.268), eta: 2 days, 11:14:06, mem: 13753M\n",
      "2020-04-27 14:45:57,504 SSD.trainer INFO: iter: 000050, lr: 0.00100, total_loss: 8.508 (11.863), reg_loss: 4.757 (5.593), cls_loss: 3.751 (6.270), time: 3.510 (4.117), eta: 2 days, 9:07:06, mem: 13753M\n",
      "^C\n",
      "Traceback (most recent call last):\n",
      "  File \"train.py\", line 84, in <module>\n",
      "    main()\n",
      "  File \"train.py\", line 76, in main\n",
      "    model = start_train(cfg)\n",
      "  File \"train.py\", line 37, in start_train\n",
      "    model = do_train(cfg, model, train_loader, optimizer, scheduler, checkpointer, arguments)\n",
      "  File \"/home/kabaert/home/cvdl-project/CVDL-Project-Git/CVDL-Project/SSD/ssd/engine/trainer.py\", line 41, in do_train\n",
      "    for iteration, (images, targets, _) in enumerate(data_loader, start_iter):\n",
      "  File \"/opt/conda/lib/python3.6/site-packages/torch/utils/data/dataloader.py\", line 345, in __next__\n",
      "    data = self._next_data()\n",
      "  File \"/opt/conda/lib/python3.6/site-packages/torch/utils/data/dataloader.py\", line 841, in _next_data\n",
      "    idx, data = self._get_data()\n",
      "  File \"/opt/conda/lib/python3.6/site-packages/torch/utils/data/dataloader.py\", line 798, in _get_data\n",
      "    success, data = self._try_get_data()\n",
      "  File \"/opt/conda/lib/python3.6/site-packages/torch/utils/data/dataloader.py\", line 761, in _try_get_data\n",
      "    data = self._data_queue.get(timeout=timeout)\n",
      "  File \"/opt/conda/lib/python3.6/queue.py\", line 173, in get\n",
      "    self.not_empty.wait(remaining)\n",
      "  File \"/opt/conda/lib/python3.6/threading.py\", line 299, in wait\n",
      "    gotit = waiter.acquire(True, timeout)\n",
      "KeyboardInterrupt\n"
     ]
    }
   ],
   "source": [
    "!python train.py configs/custom_train_waymo_resnet.yaml"
   ]
  },
  {
   "cell_type": "code",
   "execution_count": null,
   "metadata": {},
   "outputs": [],
   "source": [
    "!python train.py configs/custom_train_tdt_resnet.yaml"
   ]
  },
  {
   "cell_type": "markdown",
   "metadata": {},
   "source": []
  },
  {
   "cell_type": "code",
   "execution_count": 2,
   "metadata": {},
   "outputs": [
    {
     "name": "stdout",
     "output_type": "stream",
     "text": [
      "basic\n",
      "Detector initialized. Total Number of params:  105.41M\n",
      "Backbone number of parameters: 104.81M\n",
      "SSD Head number of parameters: 601.6K\n",
      "Loaded weights from outputs/basic/model_028500.pth\n",
      "Inference on images: 100%|████████████████| 12384/12384 [12:36<00:00, 16.38it/s]\n",
      "Detections saved to: outputs/basic/test_detected_boxes.json\n",
      "Abolsute path: /home/kabaert/home/cvdl-project/CVDL-Project-Git/CVDL-Project/SSD/outputs/basic/test_detected_boxes.json\n",
      "Go to: https://tdt4265-annotering.idi.ntnu.no/submissions/ to submit your result\n"
     ]
    }
   ],
   "source": [
    "!python submit_results.py configs/custom_train_tdt_resnet.yaml"
   ]
  }
 ],
 "metadata": {
  "kernelspec": {
   "display_name": "Python 3",
   "language": "python",
   "name": "python3"
  },
  "language_info": {
   "codemirror_mode": {
    "name": "ipython",
    "version": 3
   },
   "file_extension": ".py",
   "mimetype": "text/x-python",
   "name": "python",
   "nbconvert_exporter": "python",
   "pygments_lexer": "ipython3",
   "version": "3.6.9"
  }
 },
 "nbformat": 4,
 "nbformat_minor": 4
}
