{
 "cells": [
  {
   "cell_type": "code",
   "execution_count": null,
   "metadata": {},
   "outputs": [],
   "source": [
    "%load_ext autoreload"
   ]
  },
  {
   "cell_type": "code",
   "execution_count": null,
   "metadata": {},
   "outputs": [],
   "source": [
    "%autoreload \n",
    "import logging\n",
    "import os\n",
    "import pathlib\n",
    "import torch\n",
    "from ssd.engine.inference import do_evaluation\n",
    "from ssd.config.defaults import cfg\n",
    "from ssd.utils.logger import setup_logger\n",
    "from train import start_train"
   ]
  },
  {
   "cell_type": "code",
   "execution_count": null,
   "metadata": {},
   "outputs": [
    {
     "name": "stdout",
     "output_type": "stream",
     "text": [
      "2020-04-16 14:56:29,988 SSD INFO: Loaded configuration file configs/train_waymo.yaml\n",
      "2020-04-16 14:56:29,990 SSD INFO: \n",
      "MODEL:\n",
      "    NUM_CLASSES: 5\n",
      "    BACKBONE:\n",
      "        NAME: 'basic'\n",
      "        PRETRAINED: False\n",
      "        OUT_CHANNELS: [128, 256, 128, 128, 64, 64]\n",
      "        INPUT_CHANNELS: 3\n",
      "    PRIORS:\n",
      "        FEATURE_MAPS: [[40,40], [20,20], [10,10], [5,5], [3,3], [1,1]]\n",
      "INPUT:\n",
      "    IMAGE_SIZE: (320, 320)\n",
      "DATASETS:\n",
      "    TRAIN: (\"waymo_train\",)\n",
      "    TEST: (\"waymo_val\", )\n",
      "SOLVER:\n",
      "    MAX_ITER: 25000\n",
      "    LR_STEPS: [80000, 100000]\n",
      "    GAMMA: 0.1\n",
      "    BATCH_SIZE: 16\n",
      "    LR: 1e-3\n",
      "OUTPUT_DIR: 'outputs/basic'\n",
      "DATASET_DIR: \"datasets\"\n",
      "2020-04-16 14:56:29,991 SSD INFO: Running with config:\n",
      "DATASETS:\n",
      "  TEST: ('waymo_val',)\n",
      "  TRAIN: ('waymo_train',)\n",
      "DATASET_DIR: datasets\n",
      "DATA_LOADER:\n",
      "  NUM_WORKERS: 4\n",
      "  PIN_MEMORY: True\n",
      "EVAL_STEP: 500\n",
      "INPUT:\n",
      "  IMAGE_SIZE: (320, 320)\n",
      "  PIXEL_MEAN: [123, 117, 104]\n",
      "LOG_STEP: 10\n",
      "MODEL:\n",
      "  BACKBONE:\n",
      "    INPUT_CHANNELS: 3\n",
      "    NAME: basic\n",
      "    OUT_CHANNELS: (128, 256, 128, 128, 64, 64)\n",
      "    PRETRAINED: False\n",
      "  BOX_HEAD:\n",
      "    NAME: SSDBoxHead\n",
      "    PREDICTOR: SSDBoxPredictor\n",
      "  CENTER_VARIANCE: 0.1\n",
      "  META_ARCHITECTURE: SSDDetector\n",
      "  NEG_POS_RATIO: 3\n",
      "  NUM_CLASSES: 5\n",
      "  PRIORS:\n",
      "    ASPECT_RATIOS: [[2], [2, 3], [2, 3], [2, 3], [2], [2]]\n",
      "    BOXES_PER_LOCATION: [4, 6, 6, 6, 4, 4]\n",
      "    CLIP: True\n",
      "    FEATURE_MAPS: [[40, 40], [20, 20], [10, 10], [5, 5], [3, 3], [1, 1]]\n",
      "    MAX_SIZES: [60, 111, 162, 213, 264, 315]\n",
      "    MIN_SIZES: [30, 60, 111, 162, 213, 264]\n",
      "    STRIDES: [8, 16, 32, 64, 100, 300]\n",
      "  SIZE_VARIANCE: 0.2\n",
      "  THRESHOLD: 0.5\n",
      "MODEL_SAVE_STEP: 500\n",
      "OUTPUT_DIR: outputs/basic\n",
      "SOLVER:\n",
      "  BATCH_SIZE: 16\n",
      "  GAMMA: 0.1\n",
      "  LR: 0.001\n",
      "  LR_STEPS: [80000, 100000]\n",
      "  MAX_ITER: 25000\n",
      "  MOMENTUM: 0.9\n",
      "  WARMUP_FACTOR: 0.3333333333333333\n",
      "  WARMUP_ITERS: 500\n",
      "  WEIGHT_DECAY: 0.0005\n",
      "TEST:\n",
      "  BATCH_SIZE: 10\n",
      "  CONFIDENCE_THRESHOLD: 0.01\n",
      "  MAX_PER_CLASS: -1\n",
      "  MAX_PER_IMAGE: 100\n",
      "  NMS_THRESHOLD: 0.45\n"
     ]
    }
   ],
   "source": [
    "config_file = \"configs/vgg_ssd300_voc0712_tdt4265_server.yaml\"\n",
    "\n",
    "cfg.merge_from_file(config_file)\n",
    "cfg.freeze()\n",
    "output_dir = pathlib.Path(cfg.OUTPUT_DIR)\n",
    "output_dir.mkdir(exist_ok=True, parents=True)\n",
    "\n",
    "logger = setup_logger(\"SSD\", output_dir)\n",
    "\n",
    "logger.info(\"Loaded configuration file {}\".format(config_file))\n",
    "with open(config_file, \"r\") as cf:\n",
    "    config_str = \"\\n\" + cf.read()\n",
    "    logger.info(config_str)\n",
    "logger.info(\"Running with config:\\n{}\".format(cfg))"
   ]
  },
  {
   "cell_type": "code",
   "execution_count": null,
   "metadata": {},
   "outputs": [
    {
     "name": "stdout",
     "output_type": "stream",
     "text": [
      "basic\n",
      "Detector initialized. Total Number of params:  3.34M\n",
      "Backbone number of parameters: 3.01M\n",
      "SSD Head number of parameters: 332.0K\n",
      "2020-04-16 14:56:32,344 SSD.trainer INFO: No checkpoint found.\n",
      "17936\n",
      "Dataset loaded. Subset: train, number of images: 14348\n",
      "2020-04-16 14:56:34,450 SSD.trainer INFO: Start training ...\n"
     ]
    }
   ],
   "source": [
    "model = start_train(cfg)"
   ]
  },
  {
   "cell_type": "code",
   "execution_count": null,
   "metadata": {},
   "outputs": [],
   "source": [
    "logger.info('Start evaluating...')\n",
    "torch.cuda.empty_cache()  # speed up evaluating after training finished\n",
    "do_evaluation(cfg, model)"
   ]
  }
 ],
 "metadata": {
  "kernelspec": {
   "display_name": "Python 3",
   "language": "python",
   "name": "python3"
  },
  "language_info": {
   "codemirror_mode": {
    "name": "ipython",
    "version": 3
   },
   "file_extension": ".py",
   "mimetype": "text/x-python",
   "name": "python",
   "nbconvert_exporter": "python",
   "pygments_lexer": "ipython3",
   "version": "3.6.9"
  }
 },
 "nbformat": 4,
 "nbformat_minor": 4
}
